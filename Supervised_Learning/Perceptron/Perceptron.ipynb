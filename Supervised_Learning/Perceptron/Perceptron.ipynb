{
 "cells": [
  {
   "cell_type": "markdown",
   "id": "85d76d96",
   "metadata": {},
   "source": [
    "### **Perception Algorithm in Python**"
   ]
  },
  {
   "cell_type": "markdown",
   "id": "5aa769bc",
   "metadata": {},
   "source": [
    "#### Introduction\n",
    "The Perceptron is one of the simplest types of artificial neural networks and was invented by Frank Rosenblatt in 1958. It serves as a linear binary classifier, meaning it attempts to separate data into two parts using a straight line (in 2D), plane (in 3D), or hyperplane (in higher dimensions).\n",
    "\n",
    "The Perceptron algorithm is inspired by the way neurons work in the human brain. It makes a decision by weighing input features, summing them up, and passing the result through an activation function.\n",
    "\n",
    "#### How it Works\n",
    "A perceptron takes several binary inputs, applies individual weights to them, sums the result, and then passes it through a step activation function to determine the output.\n"
   ]
  },
  {
   "cell_type": "markdown",
   "id": "67363288",
   "metadata": {},
   "source": [
    "**Sumation function:**\n",
    "$$\n",
    "z = \\sum_{i=1}^{n} w_i x_i + b\n",
    "$$\n",
    "\n",
    "**Activation (step) function:**\n",
    "$$\n",
    "\\text{Output} =\n",
    "\\begin{cases}\n",
    "1 & \\text{if } z \\geq 0 \\\\\n",
    "0 & \\text{if } z < 0\n",
    "\\end{cases}\n",
    "$$\n",
    "\n",
    "This function determines whether the neuron “fires” or not."
   ]
  },
  {
   "cell_type": "markdown",
   "id": "f88b0e54",
   "metadata": {},
   "source": [
    "#### Dataset: General Social Survey 2018\n",
    "\n",
    "We use the General Social Survey (GSS) 2018 dataset, a sociological survey that captures a wide array of attitudes and demographic details of U.S. residents.\n",
    "\n",
    "For this example, we will predict subjective happiness (HAPPY) based on selected features such as:\n",
    "- AGE\n",
    "- EDUCATION\n",
    "- INCOME\n",
    "- MARITAL STATUS\n",
    "\n",
    "To simplify the task, happiness is binarized:\n",
    "- `Happy` if response is `Very Happy`\n",
    "- `Not Happy` if response is anything else\n"
   ]
  },
  {
   "cell_type": "markdown",
   "id": "1e0522e8",
   "metadata": {},
   "source": [
    "### Import Required Libraries"
   ]
  },
  {
   "cell_type": "code",
   "execution_count": 61,
   "id": "d7ffd83c",
   "metadata": {
    "vscode": {
     "languageId": "plaintext"
    }
   },
   "outputs": [],
   "source": [
    "import numpy as np\n",
    "import pandas as pd\n",
    "import matplotlib.pyplot as plt\n",
    "import seaborn as sns\n",
    "from sklearn.model_selection import train_test_split\n",
    "from sklearn.metrics import classification_report, confusion_matrix"
   ]
  },
  {
   "cell_type": "markdown",
   "id": "2bce3767",
   "metadata": {},
   "source": [
    "### Load and Clean Data"
   ]
  },
  {
   "cell_type": "code",
   "execution_count": 65,
   "id": "bfdffaca",
   "metadata": {
    "vscode": {
     "languageId": "plaintext"
    }
   },
   "outputs": [],
   "source": [
    "df = pd.read_csv(\"General Social Survey_2018.csv\")\n",
    "df = df[[\"HAPPY\", \"HEALTH\", \"SATFIN\"]]\n",
    "df = df.dropna()\n",
    "df = df[df['HAPPY'].isin([1, 2])]  # 1 = Very Happy, 2 = Pretty Happy"
   ]
  },
  {
   "cell_type": "markdown",
   "id": "5408b274",
   "metadata": {},
   "source": [
    "### Data Preparation and Binary Label Conversion\n",
    "In this step, we prepare the features and labels for training the Perceptron model. Specifically, we select two features from the GSS dataset:\n",
    "\n",
    "`HEALTH`: Self-rated health status<br>\n",
    "`SATFIN`: Satisfaction with financial situation<br>\n",
    "These features are stored in matrix `X`, while the target variable `HAPPY` serves as the label. Since the Perceptron is a binary classifier, we simplify the multiclass `HAPPY` column into a binary format:\n",
    "\n",
    "`1` (Very Happy) is treated as the positive class.\n",
    "All other responses (e.g., Pretty Happy, Not Too Happy) are treated as the negative class (`0`).\n",
    "We then split the dataset into training and testing sets using an 80/20 ratio. This allows the model to learn from the training data and be evaluated on unseen test data for generalization performance. The `random_state=42` ensures reproducibility."
   ]
  },
  {
   "cell_type": "code",
   "execution_count": 67,
   "id": "34367aba",
   "metadata": {
    "vscode": {
     "languageId": "plaintext"
    }
   },
   "outputs": [],
   "source": [
    "X = df[[\"HEALTH\", \"SATFIN\"]]\n",
    "y = df[\"HAPPY\"]\n",
    "\n",
    "# Convert labels to binary: 1 = Very Happy, 0 = Pretty Happy\n",
    "y = (y == 1).astype(int)\n",
    "\n",
    "X_train, X_test, y_train, y_test = train_test_split(X, y, test_size=0.2, random_state=42)"
   ]
  },
  {
   "cell_type": "markdown",
   "id": "dc0d50a8",
   "metadata": {},
   "source": [
    "### Building the Perceptron Classifier\n",
    "\n",
    "In this step, we implement the Perceptron algorithm manually using Python. \n",
    "\n",
    "This class includes the following components:\n",
    "\n",
    "- `__init__`: Initializes key hyperparameters such as the learning rate and number of iterations (epochs), along with placeholders for the weights and bias.\n",
    "- `fit(X, y)`: Trains the model on input features `X` and binary target `y` by iteratively adjusting weights and bias based on the **Perceptron learning rule**:\n",
    "  \n",
    "  $$ \\text{update} = \\eta \\cdot (y_i - \\hat{y}_i) $$\n",
    "\n",
    "  where $\\eta$ is the learning rate, $y_i$ is the true label, and $\\hat{y}_i$ is the predicted label.\n",
    "\n",
    "- `predict(X)`: Uses the trained weights and bias to compute predictions for unseen data.\n",
    "- `_unit_step_func(x)`: The activation function that converts continuous outputs into binary predictions (0 or 1) using a step function:\n",
    "\n",
    "  $$\n",
    "  \\text{output} = \n",
    "  \\begin{cases}\n",
    "  1 & \\text{if } x \\geq 0 \\\\\n",
    "  0 & \\text{otherwise}\n",
    "  \\end{cases}\n",
    "  $$\n",
    "\n",
    "This structure allows us to train and evaluate a linear binary classifier that makes decisions based on a weighted sum of the inputs.\n"
   ]
  },
  {
   "cell_type": "code",
   "execution_count": 69,
   "id": "0fb74244",
   "metadata": {
    "vscode": {
     "languageId": "plaintext"
    }
   },
   "outputs": [],
   "source": [
    "class Perceptron:\n",
    "    def __init__(self, learning_rate=0.01, n_iters=1000):\n",
    "        self.lr = learning_rate\n",
    "        self.n_iters = n_iters\n",
    "        self.activation_func = self._unit_step_func\n",
    "        self.weights = None\n",
    "        self.bias = None\n",
    "\n",
    "    def fit(self, X, y):\n",
    "        n_samples, n_features = X.shape\n",
    "        self.weights = np.zeros(n_features)\n",
    "        self.bias = 0\n",
    "\n",
    "        for _ in range(self.n_iters):\n",
    "            for idx, x_i in enumerate(X):\n",
    "                linear_output = np.dot(x_i, self.weights) + self.bias\n",
    "                y_predicted = self.activation_func(linear_output)\n",
    "                update = self.lr * (y[idx] - y_predicted)\n",
    "                self.weights += update * x_i\n",
    "                self.bias += update\n",
    "\n",
    "    def predict(self, X):\n",
    "        linear_output = np.dot(X, self.weights) + self.bias\n",
    "        y_predicted = self.activation_func(linear_output)\n",
    "        return y_predicted\n",
    "\n",
    "    def _unit_step_func(self, x):\n",
    "        return np.where(x >= 0, 1, 0)"
   ]
  },
  {
   "cell_type": "markdown",
   "id": "c55c74f9",
   "metadata": {},
   "source": [
    "### Initializing and Training the Perceptron Model\n",
    "\n",
    "With our `Perceptron` class defined, we now initialize an instance of the model with a **learning rate** of `0.01` and train it over `1000` iterations (epochs).\n",
    "\n",
    "- `learning_rate=0.01` controls how much the weights are adjusted during each step of training. A smaller value ensures more gradual learning, which can improve stability.\n",
    "- `n_iters=1000` defines how many times the algorithm will pass through the training dataset to update the weights.\n",
    "\n",
    "The `.fit()` method is then called with the training features and labels to begin the learning process. We use `.values` to ensure that the input to the Perceptron is in NumPy array format, which the class expects.\n"
   ]
  },
  {
   "cell_type": "code",
   "execution_count": 73,
   "id": "066b0cf1",
   "metadata": {
    "vscode": {
     "languageId": "plaintext"
    }
   },
   "outputs": [],
   "source": [
    "ppn = Perceptron(learning_rate=0.01, n_iters=1000)\n",
    "ppn.fit(X_train.values, y_train.values)"
   ]
  },
  {
   "cell_type": "markdown",
   "id": "7ddcdc56",
   "metadata": {},
   "source": [
    "### Model Evaluation: Predictions and Performance Metrics\n",
    "\n",
    "After training the Perceptron model, we evaluate its performance on the unseen **test dataset**:\n",
    "\n",
    "- `ppn.predict(X_test.values)` generates predicted labels for the test set.\n",
    "- `classification_report(y_test, y_pred)` provides key evaluation metrics, including:\n",
    "  - **Precision**: the proportion of positive predictions that were actually correct.\n",
    "  - **Recall**: the proportion of actual positives that were correctly identified.\n",
    "  - **F1-score**: the harmonic mean of precision and recall, giving a balanced measure.\n",
    "\n",
    "To visualize the model's performance, we generate a **confusion matrix**, which shows:\n",
    "- True Positives (correct positive predictions),\n",
    "- True Negatives (correct negative predictions),\n",
    "- False Positives (incorrect positive predictions),\n",
    "- False Negatives (incorrect negative predictions).\n",
    "\n",
    "The matrix is displayed using `seaborn`’s `heatmap`, making it easier to interpret prediction accuracy across both classes.\n"
   ]
  },
  {
   "cell_type": "code",
   "execution_count": 75,
   "id": "63a12130",
   "metadata": {
    "vscode": {
     "languageId": "plaintext"
    }
   },
   "outputs": [
    {
     "name": "stdout",
     "output_type": "stream",
     "text": [
      "\n",
      "Classification Report:\n",
      "              precision    recall  f1-score   support\n",
      "\n",
      "           0       0.68      0.90      0.77       268\n",
      "           1       0.44      0.16      0.24       134\n",
      "\n",
      "    accuracy                           0.65       402\n",
      "   macro avg       0.56      0.53      0.51       402\n",
      "weighted avg       0.60      0.65      0.60       402\n",
      "\n"
     ]
    },
    {
     "data": {
      "image/png": "[encoded data removed]",
      "text/plain": [
       "<Figure size 640x480 with 2 Axes>"
      ]
     },
     "metadata": {},
     "output_type": "display_data"
    }
   ],
   "source": [
    "y_pred = ppn.predict(X_test.values)\n",
    "print(\"\\nClassification Report:\")\n",
    "print(classification_report(y_test, y_pred))\n",
    "\n",
    "# Confusion Matrix\n",
    "conf_matrix = confusion_matrix(y_test, y_pred)\n",
    "sns.heatmap(conf_matrix, annot=True, fmt=\"d\", cmap=\"Blues\")\n",
    "plt.xlabel(\"Predicted\")\n",
    "plt.ylabel(\"True\")\n",
    "plt.title(\"Confusion Matrix\")\n",
    "plt.show()"
   ]
  },
  {
   "cell_type": "markdown",
   "id": "35261fac-d93e-42e7-a7de-a03c166dbf0c",
   "metadata": {},
   "source": [
    "### Conclusion\n",
    "In this section, we successfully implemented a Perceptron model from scratch to classify happiness based on health and financial satisfaction. While the model showed decent performance, especially for the majority class, it also revealed some of the limitations of linear classifiers on real-world data. This sets the stage for exploring more advanced models in future sections."
   ]
  }
 ],
 "metadata": {
  "kernelspec": {
   "display_name": "Python 3 (ipykernel)",
   "language": "python",
   "name": "python3"
  },
  "language_info": {
   "codemirror_mode": {
    "name": "ipython",
    "version": 3
   },
   "file_extension": ".py",
   "mimetype": "text/x-python",
   "name": "python",
   "nbconvert_exporter": "python",
   "pygments_lexer": "ipython3",
   "version": "3.12.4"
  }
 },
 "nbformat": 4,
 "nbformat_minor": 5
}
